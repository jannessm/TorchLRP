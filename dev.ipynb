{
 "cells": [
  {
   "cell_type": "code",
   "execution_count": 1,
   "metadata": {},
   "outputs": [
    {
     "name": "stderr",
     "output_type": "stream",
     "text": [
      "/home/magnusson/miniconda3/envs/torch/lib/python3.9/site-packages/torch/nn/modules/lazy.py:178: UserWarning: Lazy modules are a new feature under heavy development so changes to the API or functionality can happen at any moment.\n",
      "  warnings.warn('Lazy modules are a new feature under heavy development '\n"
     ]
    }
   ],
   "source": [
    "import torch\n",
    "from torch import nn\n",
    "import sys\n",
    "sys.path.append('../fairseq-l-system-captioning/')\n",
    "\n",
    "from lsystem_modules import SlimLstm\n",
    "\n",
    "vocab = torch.load('../fairseq-l-system-captioning/data/Advanced_47946_10_max_derivations_vocab.pth')\n",
    "\n",
    "model = SlimLstm.load_from_checkpoint('../fairseq-l-system-captioning/checkpoints/SlimLstm_normal_rand/epoch=493-step=670852.ckpt')"
   ]
  },
  {
   "cell_type": "code",
   "execution_count": 2,
   "metadata": {},
   "outputs": [],
   "source": [
    "test_cell = nn.LSTMCell(256,256)"
   ]
  },
  {
   "cell_type": "code",
   "execution_count": 3,
   "metadata": {},
   "outputs": [],
   "source": [
    "test_cell.weight_ih = model.decoder.lstm.weight_ih_l0\n",
    "test_cell.weight_hh = model.decoder.lstm.weight_hh_l0\n",
    "test_cell.bias_ih   = model.decoder.lstm.bias_ih_l0\n",
    "test_cell.bias_hh   = model.decoder.lstm.bias_hh_l0"
   ]
  },
  {
   "cell_type": "code",
   "execution_count": 4,
   "metadata": {},
   "outputs": [],
   "source": [
    "x = torch.rand((256,))\n",
    "x.requires_grad = True"
   ]
  },
  {
   "cell_type": "code",
   "execution_count": 5,
   "metadata": {},
   "outputs": [],
   "source": [
    "h, c = test_cell(x)"
   ]
  },
  {
   "cell_type": "code",
   "execution_count": 6,
   "metadata": {},
   "outputs": [],
   "source": [
    "from lrp.functional.lstm import LstmAll"
   ]
  },
  {
   "cell_type": "code",
   "execution_count": 7,
   "metadata": {},
   "outputs": [],
   "source": [
    "test_cell.eps = torch.tensor(0.001)\n",
    "test_cell.bias_factor = torch.tensor(0.0)\n",
    "\n",
    "a = torch.zeros(256)\n",
    "\n",
    "_, h_a, c_a = LstmAll.apply(x[None], a[None], a[None], test_cell)\n",
    "h_a.retain_grad()"
   ]
  },
  {
   "cell_type": "code",
   "execution_count": 8,
   "metadata": {},
   "outputs": [],
   "source": [
    "h_a.sum().backward()"
   ]
  },
  {
   "cell_type": "code",
   "execution_count": 9,
   "metadata": {},
   "outputs": [],
   "source": [
    "from lrp.functional._lstm import LSTM_bidi\n",
    "\n",
    "lstm = LSTM_bidi(model.decoder.lstm)"
   ]
  },
  {
   "cell_type": "code",
   "execution_count": 10,
   "metadata": {},
   "outputs": [
    {
     "data": {
      "text/plain": [
       "array([[-1.30045021e+01, -4.41491736e+00, -1.62079134e+01,\n",
       "         1.09311286e+01,  1.39697825e+01, -1.13479349e+01,\n",
       "         2.69549008e+00, -2.88247136e+00, -6.00779652e+01,\n",
       "        -4.46851236e+00,  1.08798199e+00,  1.41147409e+00,\n",
       "        -7.61768763e+00, -4.88110590e-01,  3.67592801e+00,\n",
       "         3.29660180e+01,  3.32459252e+00,  3.03552597e+01,\n",
       "        -2.71590209e+00, -4.99673747e+01,  6.01284358e+00,\n",
       "        -9.30073290e+00, -2.31253070e+00,  6.90225291e-01,\n",
       "        -3.20740606e+01,  7.98474856e-01,  6.65627355e+00,\n",
       "        -2.27609774e+01, -1.11142754e+00,  4.29010793e+00,\n",
       "         1.01322935e+01, -1.40966006e+01,  1.36676604e+01,\n",
       "         7.85074860e-01, -6.43635438e+00,  4.24199462e+00,\n",
       "         4.13203349e+00,  6.32310807e+00, -2.33604078e+01,\n",
       "         1.35409120e+01, -1.34614729e+01, -1.87217148e+01,\n",
       "         4.20098466e+01,  5.46570055e+00, -4.47505550e+00,\n",
       "         1.22349892e+01,  8.23159562e+00,  1.56589112e+01,\n",
       "        -2.39402529e+00, -4.71774574e+00, -1.32574893e+01,\n",
       "         3.83319269e+00,  2.36608853e+01, -6.66796308e-01,\n",
       "         8.16003808e+00, -6.24783444e+01, -1.58881552e+01,\n",
       "         1.52381901e+00, -7.67958169e+00,  1.52180618e+00,\n",
       "        -1.42656925e+01,  7.56134848e+01, -5.06203321e+00,\n",
       "        -3.10947575e-01,  7.03756424e+00, -3.02506057e+00,\n",
       "        -2.90539096e+00,  3.17218170e+00, -2.52089148e+01,\n",
       "         1.76923590e+01,  6.58462528e+00,  1.11361824e+00,\n",
       "        -8.81871363e-01, -1.89901457e+00,  2.45486243e+01,\n",
       "         6.06842349e+00,  2.03716735e+01,  4.64012776e+01,\n",
       "         4.17088763e+01, -4.95991634e+00,  3.87298928e+00,\n",
       "         4.62100915e+00, -3.57741685e+00,  5.23772411e-02,\n",
       "         2.96352593e+01,  7.14704940e+00, -1.20539547e+00,\n",
       "        -2.61959137e+01, -3.62957842e+00,  1.25182746e+01,\n",
       "         6.68746615e+00, -2.09551565e+01,  5.30696631e+00,\n",
       "        -4.10961844e+00,  9.97672275e-01, -2.81734363e+00,\n",
       "         2.02953647e+01,  4.19934601e+01,  5.53701657e+00,\n",
       "         8.23988200e-01,  1.97887899e+00,  1.12371045e+01,\n",
       "        -7.60590682e-01, -1.16264645e+01, -2.14393890e+01,\n",
       "        -6.22549274e+01, -1.46708785e+00,  2.90316946e+00,\n",
       "         4.36935696e+01, -5.88175846e+00, -2.45971875e+00,\n",
       "        -1.28473635e+01,  7.90221531e+00, -9.73566748e+00,\n",
       "         1.62480802e+00, -1.17253042e+01,  8.43981834e+00,\n",
       "         5.25445720e+01,  1.39374641e+00,  7.70957325e+01,\n",
       "        -5.21960727e+00,  4.29437409e+00,  7.10178411e+00,\n",
       "         3.18087750e+01, -3.00482660e+00,  1.22104266e-01,\n",
       "        -2.71810839e+00,  6.42070452e+00,  3.38988303e+00,\n",
       "        -2.61494880e-01, -5.60376466e+01,  1.62944933e+01,\n",
       "        -6.90234836e+00, -7.54715836e+00, -1.45120226e+01,\n",
       "         4.27226336e+00, -2.93266115e+01,  2.93059535e+00,\n",
       "        -7.56225375e+00,  4.46437176e-01, -7.81126909e+00,\n",
       "         6.48862566e+00, -1.18754167e+01, -5.39083960e+01,\n",
       "        -1.27547679e+01, -6.64409306e+00, -7.79515266e+00,\n",
       "         1.81018379e+01,  6.12453930e+00, -6.39251792e+00,\n",
       "         5.19366354e+01, -7.41789989e+00, -5.28449321e+00,\n",
       "         4.20011362e+00, -8.91533805e+00,  4.04422129e+00,\n",
       "        -7.04659411e+00, -1.21068800e+01,  2.04562569e+01,\n",
       "         1.07340301e+01, -9.69855829e-01, -6.54686706e+00,\n",
       "        -3.23639310e+01, -1.88769729e+01,  1.13074261e+01,\n",
       "        -7.15635741e+01,  1.36404462e+01,  3.25374595e+01,\n",
       "        -7.17650626e+00, -4.43448334e+00,  3.98799594e+00,\n",
       "        -2.39382698e+00, -1.67897400e+01, -5.89834273e-01,\n",
       "         2.55208858e+00, -3.51383624e+01, -3.59334160e+00,\n",
       "         7.10315377e+01,  6.55819879e+00, -2.09103957e+01,\n",
       "        -4.44647285e+01,  1.51025430e+01, -9.25159071e+00,\n",
       "         1.39635994e-01,  1.55833767e+00,  1.03396543e+01,\n",
       "         1.12521984e+01,  3.26775642e+01,  6.19164846e+00,\n",
       "         6.13614332e+00,  1.61117865e+01,  1.24390400e+00,\n",
       "         3.09640221e+00,  1.17740979e+01, -1.64432873e+01,\n",
       "         3.98958373e+01,  4.02282126e+01,  9.70213202e+01,\n",
       "        -9.97825438e-01, -4.30748587e+01,  2.32905806e+01,\n",
       "         1.96309324e+01, -6.79745496e+00,  6.81073867e-01,\n",
       "         5.86887998e+00, -6.40785602e+00, -1.22222259e+01,\n",
       "        -5.05374819e+00,  1.64626485e+01, -6.14546947e-01,\n",
       "         2.73405958e+01, -1.07869947e-01, -1.35026661e+01,\n",
       "         9.54600388e+00, -3.04379434e+00,  3.13829994e+01,\n",
       "        -8.63463708e-01,  2.13537494e+01, -1.80429972e+01,\n",
       "        -6.07963197e+01, -5.01516856e+01, -1.82128929e+01,\n",
       "        -1.57197632e+01,  6.58307430e-01, -4.33804379e+01,\n",
       "        -2.98326697e+00, -2.47795469e+01,  8.70685315e+00,\n",
       "         1.68985937e+00,  4.09105168e+00,  8.91493598e+00,\n",
       "        -1.45567745e+01, -2.88230546e+00, -1.51160324e+00,\n",
       "         2.97894741e+01,  1.76682383e+01,  5.41452222e-01,\n",
       "         8.58882420e+00, -1.31924969e+00, -3.52037959e+00,\n",
       "         6.66937823e-01,  3.22322523e+01, -6.91097288e+00,\n",
       "         5.03109522e+00, -6.78595759e+00,  3.47714755e+00,\n",
       "        -1.42817399e+01, -1.25935646e+01,  2.66284392e+01,\n",
       "         3.70950038e+01, -8.77877673e+00,  1.45087458e+00,\n",
       "         3.32896193e+00, -1.11487802e+01,  7.50366177e+01,\n",
       "         4.58678413e+00]])"
      ]
     },
     "execution_count": 10,
     "metadata": {},
     "output_type": "execute_result"
    }
   ],
   "source": [
    "Rx = lstm.lrp(x.detach()[None].numpy())\n",
    "Rx"
   ]
  },
  {
   "cell_type": "code",
   "execution_count": 16,
   "metadata": {},
   "outputs": [],
   "source": [
    "torch.testing.assert_close(h_a.float(), torch.tensor(lstm.s)[None].float())"
   ]
  },
  {
   "cell_type": "code",
   "execution_count": 17,
   "metadata": {},
   "outputs": [],
   "source": [
    "R_x = x.grad[None]\n",
    "torch.testing.assert_close(R_x.float(), torch.tensor(Rx).float())"
   ]
  },
  {
   "cell_type": "code",
   "execution_count": null,
   "metadata": {},
   "outputs": [],
   "source": []
  }
 ],
 "metadata": {
  "kernelspec": {
   "display_name": "Python 3.9.12 ('torch')",
   "language": "python",
   "name": "python3"
  },
  "language_info": {
   "codemirror_mode": {
    "name": "ipython",
    "version": 3
   },
   "file_extension": ".py",
   "mimetype": "text/x-python",
   "name": "python",
   "nbconvert_exporter": "python",
   "pygments_lexer": "ipython3",
   "version": "3.9.12"
  },
  "orig_nbformat": 4,
  "vscode": {
   "interpreter": {
    "hash": "f06f672eb2f269a74d67ead6b4f28fefa7f64797afaa497dec7529d5fd882a68"
   }
  }
 },
 "nbformat": 4,
 "nbformat_minor": 2
}
