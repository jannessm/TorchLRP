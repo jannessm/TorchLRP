{
 "cells": [
  {
   "cell_type": "code",
   "execution_count": 1,
   "metadata": {},
   "outputs": [
    {
     "name": "stderr",
     "output_type": "stream",
     "text": [
      "/home/magnusson/miniconda3/envs/torch/lib/python3.9/site-packages/torch/nn/modules/lazy.py:178: UserWarning: Lazy modules are a new feature under heavy development so changes to the API or functionality can happen at any moment.\n",
      "  warnings.warn('Lazy modules are a new feature under heavy development '\n"
     ]
    }
   ],
   "source": [
    "import torch\n",
    "torch.set_printoptions(precision=15)\n",
    "from torch import nn\n",
    "import numpy as np\n",
    "import sys\n",
    "sys.path.append('../fairseq-l-system-captioning/')\n",
    "\n",
    "from lsystem_modules import SlimLstm\n",
    "\n",
    "vocab = torch.load('../fairseq-l-system-captioning/data/Advanced_47946_10_max_derivations_vocab.pth')\n",
    "\n",
    "model = SlimLstm.load_from_checkpoint('../fairseq-l-system-captioning/checkpoints/SlimLstm_normal_rand/epoch=493-step=670852.ckpt')"
   ]
  },
  {
   "cell_type": "code",
   "execution_count": 2,
   "metadata": {},
   "outputs": [],
   "source": [
    "test_cell = nn.LSTMCell(256,256)"
   ]
  },
  {
   "cell_type": "code",
   "execution_count": 3,
   "metadata": {},
   "outputs": [],
   "source": [
    "test_cell.weight_ih = model.decoder.lstm.weight_ih_l0\n",
    "test_cell.weight_hh = model.decoder.lstm.weight_hh_l0\n",
    "test_cell.bias_ih   = model.decoder.lstm.bias_ih_l0\n",
    "test_cell.bias_hh   = model.decoder.lstm.bias_hh_l0"
   ]
  },
  {
   "cell_type": "code",
   "execution_count": 4,
   "metadata": {},
   "outputs": [],
   "source": [
    "x = torch.rand((3,256)).double()\n",
    "x.requires_grad = True"
   ]
  },
  {
   "cell_type": "code",
   "execution_count": 5,
   "metadata": {},
   "outputs": [],
   "source": [
    "from lrp.functional.lstm import LstmAll"
   ]
  },
  {
   "cell_type": "code",
   "execution_count": 6,
   "metadata": {},
   "outputs": [],
   "source": [
    "test_cell.eps = torch.tensor(0.001)\n",
    "test_cell.bias_factor = torch.tensor(0.0)\n",
    "\n",
    "a = torch.zeros(256).double()\n",
    "outs = torch.zeros_like(x)\n",
    "out_a, h_a, c_a = LstmAll.apply(x[0, None], a[None], a[None], test_cell)\n",
    "outs[0] = out_a\n",
    "out_a, h_a, c_a = LstmAll.apply(x[1, None], h_a, c_a, test_cell)\n",
    "outs[1] = out_a\n",
    "out_a, h_a, c_a = LstmAll.apply(x[2, None], h_a, c_a, test_cell)\n",
    "outs[2] = out_a"
   ]
  },
  {
   "cell_type": "code",
   "execution_count": 7,
   "metadata": {},
   "outputs": [],
   "source": [
    "# h_a.sum().backward()\n",
    "(out_a.sum() / 256).backward()"
   ]
  },
  {
   "cell_type": "code",
   "execution_count": 8,
   "metadata": {},
   "outputs": [],
   "source": [
    "from lrp.functional._lstm import LSTM_bidi\n",
    "\n",
    "lstm = LSTM_bidi(model.decoder.lstm)"
   ]
  },
  {
   "cell_type": "code",
   "execution_count": 9,
   "metadata": {},
   "outputs": [],
   "source": [
    "Rx = lstm.lrp(x.detach().numpy())"
   ]
  },
  {
   "cell_type": "code",
   "execution_count": 10,
   "metadata": {},
   "outputs": [],
   "source": [
    "torch.testing.assert_close(out_a, torch.tensor(lstm.s)[None])"
   ]
  },
  {
   "cell_type": "code",
   "execution_count": 11,
   "metadata": {},
   "outputs": [],
   "source": [
    "R_x = x.grad\n",
    "torch.testing.assert_close(R_x, torch.tensor(Rx))"
   ]
  },
  {
   "cell_type": "code",
   "execution_count": 12,
   "metadata": {},
   "outputs": [],
   "source": [
    "from lrp.lstm import LSTM\n",
    "\n",
    "l = LSTM.from_torch(model.decoder.lstm)\n"
   ]
  },
  {
   "cell_type": "code",
   "execution_count": 13,
   "metadata": {},
   "outputs": [],
   "source": [
    "i = x.detach()\n",
    "i.requires_grad = True\n",
    "out, (h, c) = l.forward(i, explain=True)\n",
    "\n",
    "torch.testing.assert_close(out, outs)\n",
    "torch.testing.assert_close(out[-1, None], torch.tensor(lstm.s)[None])"
   ]
  },
  {
   "cell_type": "code",
   "execution_count": 14,
   "metadata": {},
   "outputs": [],
   "source": [
    "(out.sum() / 256).backward()"
   ]
  },
  {
   "cell_type": "code",
   "execution_count": 15,
   "metadata": {},
   "outputs": [],
   "source": [
    "R_x = i.grad\n",
    "torch.testing.assert_close(R_x, torch.tensor(Rx))"
   ]
  },
  {
   "cell_type": "code",
   "execution_count": null,
   "metadata": {},
   "outputs": [],
   "source": []
  }
 ],
 "metadata": {
  "kernelspec": {
   "display_name": "Python 3.9.12 ('torch')",
   "language": "python",
   "name": "python3"
  },
  "language_info": {
   "codemirror_mode": {
    "name": "ipython",
    "version": 3
   },
   "file_extension": ".py",
   "mimetype": "text/x-python",
   "name": "python",
   "nbconvert_exporter": "python",
   "pygments_lexer": "ipython3",
   "version": "3.9.12"
  },
  "orig_nbformat": 4,
  "vscode": {
   "interpreter": {
    "hash": "f06f672eb2f269a74d67ead6b4f28fefa7f64797afaa497dec7529d5fd882a68"
   }
  }
 },
 "nbformat": 4,
 "nbformat_minor": 2
}
